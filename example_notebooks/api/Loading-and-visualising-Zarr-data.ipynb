{
 "cells": [
  {
   "cell_type": "markdown",
   "id": "7fe83fd8-632a-4d34-a9f1-81d639f8c56f",
   "metadata": {},
   "source": [
    "# TODO: S-BIAD564 not in api"
   ]
  },
  {
   "cell_type": "code",
   "execution_count": 4,
   "id": "07ba3233-3a88-4b35-8507-04bc299e1158",
   "metadata": {},
   "outputs": [
    {
     "name": "stdout",
     "output_type": "stream",
     "text": [
      "\n",
      "\u001b[1m[\u001b[0m\u001b[34;49mnotice\u001b[0m\u001b[1;39;49m]\u001b[0m\u001b[39;49m A new release of pip available: \u001b[0m\u001b[31;49m22.3.1\u001b[0m\u001b[39;49m -> \u001b[0m\u001b[32;49m24.0\u001b[0m\n",
      "\u001b[1m[\u001b[0m\u001b[34;49mnotice\u001b[0m\u001b[1;39;49m]\u001b[0m\u001b[39;49m To update, run: \u001b[0m\u001b[32;49mpip install --upgrade pip\u001b[0m\n"
     ]
    }
   ],
   "source": [
    "! pip install microfilm > /dev/null\n",
    "\n",
    "import numpy as np\n",
    "from microfilm import microanim\n",
    "\n",
    "from bia_explorer import api\n",
    "\n",
    "from ome_zarr.io import parse_url\n",
    "from ome_zarr.reader import Reader\n",
    "\n",
    "from bia_explorer.utils import scale_to_uint8\n",
    "from bia_explorer.io import load_full_bia_study"
   ]
  },
  {
   "cell_type": "code",
   "execution_count": 8,
   "id": "07383d0e-7713-4cce-a1c1-6c312985b124",
   "metadata": {},
   "outputs": [
    {
     "ename": "AttributeError",
     "evalue": "'NoneType' object has no attribute 'get_images'",
     "output_type": "error",
     "traceback": [
      "\u001b[0;31m---------------------------------------------------------------------------\u001b[0m",
      "\u001b[0;31mAttributeError\u001b[0m                            Traceback (most recent call last)",
      "Cell \u001b[0;32mIn[8], line 3\u001b[0m\n\u001b[1;32m      1\u001b[0m study \u001b[38;5;241m=\u001b[39m api\u001b[38;5;241m.\u001b[39mBIAStudy\u001b[38;5;241m.\u001b[39mget_by_accession(\u001b[38;5;124m\"\u001b[39m\u001b[38;5;124mS-BIAD564\u001b[39m\u001b[38;5;124m\"\u001b[39m)\n\u001b[0;32m----> 3\u001b[0m image \u001b[38;5;241m=\u001b[39m \u001b[38;5;28mnext\u001b[39m(\u001b[43mstudy\u001b[49m\u001b[38;5;241;43m.\u001b[39;49m\u001b[43mget_images\u001b[49m())\n\u001b[1;32m      4\u001b[0m image\n",
      "\u001b[0;31mAttributeError\u001b[0m: 'NoneType' object has no attribute 'get_images'"
     ]
    }
   ],
   "source": [
    "study = api.BIAStudy.get_by_accession(\"S-BIAD564\")\n",
    "\n",
    "image = next(study.get_images())\n",
    "image"
   ]
  },
  {
   "cell_type": "code",
   "execution_count": null,
   "id": "11755e6e-6f19-423c-aba9-14c3304123eb",
   "metadata": {},
   "outputs": [],
   "source": []
  }
 ],
 "metadata": {
  "kernelspec": {
   "display_name": "Python 3 (ipykernel)",
   "language": "python",
   "name": "python3"
  },
  "language_info": {
   "codemirror_mode": {
    "name": "ipython",
    "version": 3
   },
   "file_extension": ".py",
   "mimetype": "text/x-python",
   "name": "python",
   "nbconvert_exporter": "python",
   "pygments_lexer": "ipython3",
   "version": "3.9.18"
  }
 },
 "nbformat": 4,
 "nbformat_minor": 5
}
